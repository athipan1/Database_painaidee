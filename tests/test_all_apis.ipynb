{
  "cells": [
    {
      "cell_type": "markdown",
      "metadata": {
        "id": "view-in-github",
        "colab_type": "text"
      },
      "source": [
        "<a href=\"https://colab.research.google.com/github/athipan1/Database_painaidee/blob/main/tests/test_all_apis.ipynb\" target=\"_parent\"><img src=\"https://colab.research.google.com/assets/colab-badge.svg\" alt=\"Open In Colab\"/></a>"
      ]
    },
    {
      "cell_type": "markdown",
      "metadata": {
        "id": "title"
      },
      "source": [
        "# 🧪 ทดลอง API ทั้งหมดใน Google Colab\n",
        "\n",
        "## Database Painaidee - API Testing Notebook\n",
        "\n",
        "**ทดสอบ API ของระบบจัดการข้อมูลสถานที่ท่องเที่ยวไทย**\n",
        "\n",
        "This notebook demonstrates how to:\n",
        "- 🚀 Deploy the complete Thai tourism API temporarily\n",
        "- 🧪 Test all API endpoints with real examples\n",
        "- 🗣️ Try the `/api/talk` conversational AI feature\n",
        "- 🎤 Test voice input/output functionality (if supported)\n",
        "- 📊 View real-time dashboard and analytics\n",
        "\n",
        "**Features to test:**\n",
        "- Tourism attraction search and management\n",
        "- AI-powered keyword extraction and recommendations\n",
        "- Behavior analytics and user tracking\n",
        "- Real-time dashboard with statistics\n",
        "- Conversational AI for tourism queries"
      ]
    },
    {
      "cell_type": "markdown",
      "metadata": {
        "id": "setup-section"
      },
      "source": [
        "## 🔧 Setup and Installation\n",
        "\n",
        "**Step 1: Clone the repository and install dependencies**"
      ]
    },
    {
      "cell_type": "code",
      "execution_count": null,
      "metadata": {
        "id": "setup-code"
      },
      "outputs": [],
      "source": [
        "# Clone the Database Painaidee repository\n",
        "!git clone https://github.com/athipan1/Database_painaidee.git\n",
        "%cd Database_painaidee\n",
        "\n",
        "# Install required packages\n",
        "!pip install -r requirements.txt\n",
        "\n",
        "# Install additional packages for Colab environment\n",
        "!pip install pyngrok flask-cors\n",
        "\n",
        "print(\"✅ Repository cloned and dependencies installed!\")"
      ]
    },
    {
      "cell_type": "markdown",
      "metadata": {
        "id": "database-setup"
      },
      "source": [
        "## 🗃️ Database Setup\n",
        "\n",
        "**Step 2: Setup PostgreSQL and Redis (using SQLite for simplicity in Colab)**"
      ]
    },
    {
      "cell_type": "code",
      "execution_count": null,
      "metadata": {
        "id": "database-setup-code"
      },
      "outputs": [],
      "source": [
        "import os\n",
        "\n",
        "# Create environment configuration for Colab\n",
        "env_config = '''\n",
        "FLASK_ENV=development\n",
        "SECRET_KEY=colab-test-secret-key-for-demo\n",
        "DATABASE_URL=sqlite:///painaidee_test.db\n",
        "REDIS_URL=redis://localhost:6379/0\n",
        "CELERY_BROKER_URL=redis://localhost:6379/0\n",
        "DEBUG=True\n",
        "TESTING=True\n",
        "PAGINATION_ENABLED=true\n",
        "PAGINATION_PAGE_SIZE=10\n",
        "'''\n",
        "\n",
        "# Write .env file\n",
        "with open('.env', 'w') as f:\n",
        "    f.write(env_config)\n",
        "\n",
        "# Install and start Redis (lightweight for Colab)\n",
        "!apt-get update && apt-get install -y redis-server\n",
        "!redis-server --daemonize yes\n",
        "\n",
        "print(\"✅ Database and Redis configured for Colab!\")"
      ]
    },
    {
      "cell_type": "markdown",
      "metadata": {
        "id": "ngrok-setup"
      },
      "source": [
        "## 🌐 Public Access Setup\n",
        "\n",
        "**Step 3: Setup ngrok for public API access**"
      ]
    },
    {
      "cell_type": "code",
      "execution_count": null,
      "metadata": {
        "id": "ngrok-setup-code"
      },
      "outputs": [],
      "source": [
        "import os\n",
        "from pyngrok import ngrok\n",
        "\n",
        "# Optional: Set your ngrok auth token for longer sessions\n",
        "# ngrok.set_auth_token(\"YOUR_NGROK_TOKEN\")\n",
        "\n",
        "# Initialize database\n",
        "!python init_db.py\n",
        "\n",
        "print(\"✅ Database initialized!\")\n",
        "print(\"🚀 Ready to start the API server...\")"
      ]
    },
    {
      "cell_type": "markdown",
      "metadata": {
        "id": "api-start"
      },
      "source": [
        "## 🚀 Start the API Server\n",
        "\n",
        "**Step 4: Launch the Flask API with public access**"
      ]
    },
    {
      "cell_type": "code",
      "execution_count": null,
      "metadata": {
        "id": "api-start-code"
      },
      "outputs": [],
      "source": [
        "import threading\n",
        "import time\n",
        "from flask import Flask\n",
        "from app import create_app\n",
        "\n",
        "# Create Flask app\n",
        "app = create_app()\n",
        "\n",
        "# Start Flask server in background thread\n",
        "def run_flask():\n",
        "    app.run(host='0.0.0.0', port=5000, debug=False, use_reloader=False)\n",
        "\n",
        "# Start server in background\n",
        "flask_thread = threading.Thread(target=run_flask, daemon=True)\n",
        "flask_thread.start()\n",
        "\n",
        "# Wait for server to start\n",
        "time.sleep(3)\n",
        "\n",
        "# Create ngrok tunnel\n",
        "public_url = ngrok.connect(5000)\n",
        "\n",
        "print(f\"🌐 API is now publicly accessible at: {public_url}\")\n",
        "print(f\"📊 Dashboard: {public_url}/api/dashboard/\")\n",
        "print(f\"🏛️ Attractions API: {public_url}/api/attractions\")\n",
        "print(f\"🗣️ Conversational AI: {public_url}/api/talk\")\n",
        "print(f\"❤️ Health Check: {public_url}/api/health\")\n",
        "print(\"\\n✅ API server is running and ready for testing!\")\n",
        "\n",
        "# Store the URL for later use\n",
        "API_BASE_URL = str(public_url)"
      ]
    },
    {
      "cell_type": "markdown",
      "metadata": {
        "id": "load-data"
      },
      "source": [
        "## 📊 Load Sample Tourism Data\n",
        "\n",
        "**Step 5: Populate the database with Thai tourism data**"
      ]
    },
    {
      "cell_type": "code",
      "execution_count": null,
      "metadata": {
        "id": "load-data-code"
      },
      "outputs": [],
      "source": [
        "import requests\n",
        "import json\n",
        "\n",
        "# Sync data from Tourism Authority of Thailand (TAT)\n",
        "print(\"📊 Loading Thai tourism data...\")\n",
        "\n",
        "try:\n",
        "    # Try to sync TAT data first\n",
        "    response = requests.post(f\"{API_BASE_URL}/api/attractions/sync/tat\", timeout=30)\n",
        "    if response.status_code == 200:\n",
        "        result = response.json()\n",
        "        print(f\"✅ TAT Data loaded: {result.get('message', 'Success')}\")\n",
        "    else:\n",
        "        print(\"⚠️ TAT data not available, loading test data...\")\n",
        "        # Fallback to test data\n",
        "        response = requests.post(f\"{API_BASE_URL}/api/attractions/sync\", timeout=30)\n",
        "        if response.status_code == 200:\n",
        "            result = response.json()\n",
        "            print(f\"✅ Test data loaded: {result.get('message', 'Success')}\")\n",
        "        \n",
        "except Exception as e:\n",
        "    print(f\"❌ Error loading data: {e}\")\n",
        "    print(\"Adding sample data manually...\")\n",
        "    \n",
        "    # Add sample attraction manually\n",
        "    sample_data = {\n",
        "        \"title\": \"วัดพระแก้ว กรุงเทพมหานคร\",\n",
        "        \"body\": \"วัดพระแก้วเป็นวัดที่สำคัญที่สุดในประเทศไทย ตั้งอยู่ในพระบรมมหาราชวัง กรุงเทพฯ เป็นที่ประดิษฐานพระพุทธมหามณีรัตนปฏิมากร หรือพระแก้วมรกต\",\n",
        "        \"userId\": 1\n",
        "    }\n",
        "    \n",
        "    try:\n",
        "        response = requests.post(f\"{API_BASE_URL}/api/attractions\", json=sample_data)\n",
        "        if response.status_code == 201:\n",
        "            print(\"✅ Sample attraction added successfully!\")\n",
        "    except Exception as e:\n",
        "        print(f\"⚠️ Could not add sample data: {e}\")\n",
        "\n",
        "print(\"\\n🎉 Database is ready for testing!\")"
      ]
    },
    {
      "cell_type": "markdown",
      "metadata": {
        "id": "api-testing"
      },
      "source": [
        "## 🧪 API Testing Examples\n",
        "\n",
        "**Step 6: Test all API endpoints**"
      ]
    },
    {
      "cell_type": "markdown",
      "metadata": {
        "id": "health-check"
      },
      "source": [
        "### 1. Health Check"
      ]
    },
    {
      "cell_type": "code",
      "execution_count": null,
      "metadata": {
        "id": "health-check-code"
      },
      "outputs": [],
      "source": [
        "# Test health check endpoint\n",
        "response = requests.get(f\"{API_BASE_URL}/api/health\")\n",
        "print(f\"Health Check Status: {response.status_code}\")\n",
        "print(f\"Response: {response.json()}\")"
      ]
    },
    {
      "cell_type": "markdown",
      "metadata": {
        "id": "attractions-api"
      },
      "source": [
        "### 2. Attractions API"
      ]
    },
    {
      "cell_type": "code",
      "execution_count": null,
      "metadata": {
        "id": "attractions-api-code"
      },
      "outputs": [],
      "source": [
        "# Get all attractions\n",
        "response = requests.get(f\"{API_BASE_URL}/api/attractions\")\n",
        "attractions = response.json()\n",
        "\n",
        "print(f\"📊 Total attractions: {len(attractions.get('data', []))}\")\n",
        "print(\"\\n🏛️ Sample attractions:\")\n",
        "\n",
        "for i, attraction in enumerate(attractions.get('data', [])[:3]):\n",
        "    print(f\"\\n{i+1}. {attraction.get('title', 'No title')}\")\n",
        "    print(f\"   📍 Location: {attraction.get('province', 'Unknown')}\")\n",
        "    print(f\"   📝 Description: {attraction.get('body', 'No description')[:100]}...\")\n",
        "    if attraction.get('latitude') and attraction.get('longitude'):\n",
        "        print(f\"   🗺️ Coordinates: {attraction['latitude']}, {attraction['longitude']}\")"
      ]
    },
    {
      "cell_type": "markdown",
      "metadata": {
        "id": "dashboard-api"
      },
      "source": [
        "### 3. Dashboard Statistics"
      ]
    },
    {
      "cell_type": "code",
      "execution_count": null,
      "metadata": {
        "id": "dashboard-api-code"
      },
      "outputs": [],
      "source": [
        "# Get dashboard statistics\n",
        "response = requests.get(f\"{API_BASE_URL}/api/dashboard/stats\")\n",
        "stats = response.json()\n",
        "\n",
        "print(\"📊 Dashboard Statistics:\")\n",
        "print(f\"   Total Attractions: {stats.get('total_attractions', 0)}\")\n",
        "print(f\"   Geocoded Attractions: {stats.get('geocoded_attractions', 0)}\")\n",
        "print(f\"   Recent Syncs: {stats.get('recent_syncs', 0)}\")\n",
        "print(f\"   System Health: {stats.get('system_health', 'Unknown')}\")\n",
        "\n",
        "print(f\"\\n🌐 Visit the interactive dashboard: {API_BASE_URL}/api/dashboard/\")"
      ]
    },
    {
      "cell_type": "markdown",
      "metadata": {
        "id": "talk-api"
      },
      "source": [
        "### 4. 🗣️ Conversational AI - `/api/talk` Feature\n",
        "\n",
        "**Test the conversational AI for tourism queries**"
      ]
    },
    {
      "cell_type": "code",
      "execution_count": null,
      "metadata": {
        "id": "talk-api-code"
      },
      "outputs": [],
      "source": [
        "# Test conversational AI endpoint\n",
        "print(\"🗣️ Testing Conversational AI (/api/talk)\")\n",
        "print(\"=\" * 50)\n",
        "\n",
        "# Sample queries to test\n",
        "test_queries = [\n",
        "    \"แนะนำสถานที่ท่องเที่ยวในกรุงเทพฯ\",\n",
        "    \"วัดไหนสวยที่สุดในไทย\",\n",
        "    \"What are the best temples to visit in Bangkok?\",\n",
        "    \"ช่วยหาข้อมูลเกี่ยวกับวัดพระแก้ว\"\n",
        "]\n",
        "\n",
        "for i, query in enumerate(test_queries, 1):\n",
        "    print(f\"\\n{i}. Query: {query}\")\n",
        "    \n",
        "    try:\n",
        "        # Send request to talk API\n",
        "        talk_data = {\n",
        "            \"message\": query,\n",
        "            \"user_id\": \"colab_test_user\"\n",
        "        }\n",
        "        \n",
        "        response = requests.post(f\"{API_BASE_URL}/api/talk\", json=talk_data, timeout=15)\n",
        "        \n",
        "        if response.status_code == 200:\n",
        "            result = response.json()\n",
        "            print(f\"   ✅ Response: {result.get('response', 'No response')}\")\n",
        "            \n",
        "            # Show related attractions if available\n",
        "            if result.get('attractions'):\n",
        "                print(f\"   🏛️ Related attractions: {len(result['attractions'])}\")\n",
        "                for attraction in result['attractions'][:2]:\n",
        "                    print(f\"      - {attraction.get('title', 'Unknown')}\")\n",
        "        else:\n",
        "            print(f\"   ❌ Error: {response.status_code} - {response.text}\")\n",
        "            \n",
        "    except Exception as e:\n",
        "        print(f\"   ⚠️ Error testing query: {e}\")\n",
        "\n",
        "print(\"\\n🎉 Conversational AI testing completed!\")"
      ]
    },
    {
      "cell_type": "markdown",
      "metadata": {
        "id": "sample-request-response"
      },
      "source": [
        "### 5. 📋 Complete Sample Request & Response\n",
        "\n",
        "**Detailed example of API usage**"
      ]
    },
    {
      "cell_type": "code",
      "execution_count": null,
      "metadata": {
        "id": "sample-request-response-code"
      },
      "outputs": [],
      "source": [
        "import json\n",
        "\n",
        "print(\"📋 Complete API Request & Response Example\")\n",
        "print(\"=\" * 60)\n",
        "\n",
        "# Sample request data\n",
        "sample_request = {\n",
        "    \"message\": \"แนะนำวัดสวยๆ ในกรุงเทพ พร้อมข้อมูลการเดินทาง\",\n",
        "    \"user_id\": \"demo_user_123\",\n",
        "    \"preferences\": {\n",
        "        \"language\": \"th\",\n",
        "        \"location\": \"Bangkok\",\n",
        "        \"interest\": \"temples\"\n",
        "    }\n",
        "}\n",
        "\n",
        "print(\"📤 Sample Request:\")\n",
        "print(f\"POST {API_BASE_URL}/api/talk\")\n",
        "print(\"Content-Type: application/json\")\n",
        "print(\"\\nRequest Body:\")\n",
        "print(json.dumps(sample_request, indent=2, ensure_ascii=False))\n",
        "\n",
        "print(\"\\n\" + \"=\"*60)\n",
        "\n",
        "# Send the request\n",
        "try:\n",
        "    response = requests.post(\n",
        "        f\"{API_BASE_URL}/api/talk\", \n",
        "        json=sample_request,\n",
        "        headers={'Content-Type': 'application/json'},\n",
        "        timeout=20\n",
        "    )\n",
        "    \n",
        "    print(\"📥 Sample Response:\")\n",
        "    print(f\"Status Code: {response.status_code}\")\n",
        "    print(\"\\nResponse Body:\")\n",
        "    \n",
        "    if response.status_code == 200:\n",
        "        response_data = response.json()\n",
        "        print(json.dumps(response_data, indent=2, ensure_ascii=False))\n",
        "        \n",
        "        # Extract key information\n",
        "        print(\"\\n\" + \"=\"*60)\n",
        "        print(\"📊 Response Summary:\")\n",
        "        print(f\"✅ AI Response: {response_data.get('response', 'No response')}\")\n",
        "        print(f\"🏛️ Attractions Found: {len(response_data.get('attractions', []))}\")\n",
        "        print(f\"🕒 Processing Time: {response_data.get('processing_time', 'N/A')}\")\n",
        "        print(f\"💬 Conversation ID: {response_data.get('conversation_id', 'N/A')}\")\n",
        "        \n",
        "    else:\n",
        "        print(response.text)\n",
        "        \n",
        "except Exception as e:\n",
        "    print(f\"❌ Error: {e}\")\n",
        "\n",
        "print(\"\\n🎉 Sample request/response demonstration completed!\")"
      ]
    },
    {
      "cell_type": "markdown",
      "metadata": {
        "id": "voice-testing"
      },
      "source": [
        "### 6. 🎤 Voice Input/Output Testing (Optional)\n",
        "\n",
        "**Test voice functionality if supported**"
      ]
    },
    {
      "cell_type": "code",
      "execution_count": null,
      "metadata": {
        "id": "voice-testing-code"
      },
      "outputs": [],
      "source": [
        "# Note: Voice functionality may require additional setup in Colab\n",
        "print(\"🎤 Voice Input/Output Testing\")\n",
        "print(\"=\" * 40)\n",
        "\n",
        "# Check if voice endpoints exist\n",
        "voice_endpoints = [\n",
        "    \"/api/voice/speech-to-text\",\n",
        "    \"/api/voice/text-to-speech\",\n",
        "    \"/api/talk/voice\"\n",
        "]\n",
        "\n",
        "print(\"🔍 Checking available voice endpoints...\")\n",
        "\n",
        "for endpoint in voice_endpoints:\n",
        "    try:\n",
        "        response = requests.get(f\"{API_BASE_URL}{endpoint}\")\n",
        "        if response.status_code != 404:\n",
        "            print(f\"   ✅ {endpoint} - Available (Status: {response.status_code})\")\n",
        "        else:\n",
        "            print(f\"   ❌ {endpoint} - Not found\")\n",
        "    except:\n",
        "        print(f\"   ⚠️ {endpoint} - Connection error\")\n",
        "\n",
        "# Text-to-speech simulation (if API supports it)\n",
        "print(\"\\n🔊 Simulating text-to-speech functionality:\")\n",
        "sample_text = \"สวัสดีครับ ยินดีต้อนรับสู่ระบบข้อมูลสถานที่ท่องเที่ยวไทย\"\n",
        "print(f\"Text to convert: {sample_text}\")\n",
        "print(\"Note: Voice features may require additional browser permissions and setup.\")\n",
        "print(\"For full voice functionality, consider using the web interface directly.\")\n",
        "\n",
        "print(\"\\n✅ Voice testing section completed!\")"
      ]
    },
    {
      "cell_type": "markdown",
      "metadata": {
        "id": "ai-features"
      },
      "source": [
        "### 7. 🤖 AI Features Testing\n",
        "\n",
        "**Test AI-powered features**"
      ]
    },
    {
      "cell_type": "code",
      "execution_count": null,
      "metadata": {
        "id": "ai-features-code"
      },
      "outputs": [],
      "source": [
        "print(\"🤖 Testing AI Features\")\n",
        "print(\"=\" * 30)\n",
        "\n",
        "# Test keyword extraction\n",
        "print(\"\\n1. 🔍 Keyword Extraction:\")\n",
        "try:\n",
        "    keyword_data = {\n",
        "        \"text\": \"วัดพระแก้วเป็นวัดที่สำคัญที่สุดในประเทศไทย ตั้งอยู่ในพระบรมมหาราชวัง กรุงเทพฯ เป็นที่ประดิษฐานพระแก้วมรกต\",\n",
        "        \"language\": \"th\"\n",
        "    }\n",
        "    \n",
        "    response = requests.post(f\"{API_BASE_URL}/api/ai/keywords/extract\", json=keyword_data)\n",
        "    if response.status_code == 200:\n",
        "        result = response.json()\n",
        "        print(f\"   ✅ Keywords extracted: {result.get('keywords', [])}\")\n",
        "    else:\n",
        "        print(f\"   ⚠️ Keyword extraction unavailable (Status: {response.status_code})\")\n",
        "except Exception as e:\n",
        "    print(f\"   ❌ Error: {e}\")\n",
        "\n",
        "# Test recommendations\n",
        "print(\"\\n2. 💡 AI Recommendations:\")\n",
        "try:\n",
        "    response = requests.get(f\"{API_BASE_URL}/api/ai/recommendations/demo_user\")\n",
        "    if response.status_code == 200:\n",
        "        result = response.json()\n",
        "        recommendations = result.get('recommendations', [])\n",
        "        print(f\"   ✅ Recommendations found: {len(recommendations)}\")\n",
        "        for i, rec in enumerate(recommendations[:3], 1):\n",
        "            print(f\"      {i}. {rec.get('title', 'Unknown')} (Score: {rec.get('score', 0):.2f})\")\n",
        "    else:\n",
        "        print(f\"   ⚠️ Recommendations unavailable (Status: {response.status_code})\")\n",
        "except Exception as e:\n",
        "    print(f\"   ❌ Error: {e}\")\n",
        "\n",
        "# Test behavior tracking\n",
        "print(\"\\n3. 📊 Behavior Analytics:\")\n",
        "try:\n",
        "    behavior_data = {\n",
        "        \"user_id\": \"colab_test_user\",\n",
        "        \"action\": \"view_attraction\",\n",
        "        \"attraction_id\": 1,\n",
        "        \"timestamp\": \"2024-01-01T12:00:00Z\"\n",
        "    }\n",
        "    \n",
        "    response = requests.post(f\"{API_BASE_URL}/api/behavior/track\", json=behavior_data)\n",
        "    if response.status_code == 200:\n",
        "        print(\"   ✅ User behavior tracked successfully\")\n",
        "        \n",
        "        # Get behavior analysis\n",
        "        response = requests.get(f\"{API_BASE_URL}/api/behavior/analyze/colab_test_user\")\n",
        "        if response.status_code == 200:\n",
        "            analysis = response.json()\n",
        "            print(f\"   📈 Behavior patterns: {len(analysis.get('patterns', []))}\")\n",
        "    else:\n",
        "        print(f\"   ⚠️ Behavior tracking unavailable (Status: {response.status_code})\")\n",
        "except Exception as e:\n",
        "    print(f\"   ❌ Error: {e}\")\n",
        "\n",
        "print(\"\\n🎉 AI features testing completed!\")"
      ]
    },
    {
      "cell_type": "markdown",
      "metadata": {
        "id": "final-summary"
      },
      "source": [
        "## 🎉 Testing Summary\n",
        "\n",
        "**Your API is now running and accessible!**"
      ]
    },
    {
      "cell_type": "code",
      "execution_count": null,
      "metadata": {
        "id": "final-summary-code"
      },
      "outputs": [],
      "source": [
        "print(\"🎉 Database Painaidee API Testing Summary\")\n",
        "print(\"=\" * 50)\n",
        "print(f\"🌐 Public API URL: {API_BASE_URL}\")\n",
        "print(f\"📊 Dashboard: {API_BASE_URL}/api/dashboard/\")\n",
        "print(f\"🏛️ Attractions: {API_BASE_URL}/api/attractions\")\n",
        "print(f\"🗣️ Talk API: {API_BASE_URL}/api/talk\")\n",
        "print(f\"❤️ Health: {API_BASE_URL}/api/health\")\n",
        "\n",
        "print(\"\\n✅ Features Tested:\")\n",
        "print(\"   🏛️ Tourism attractions database\")\n",
        "print(\"   🗣️ Conversational AI (/api/talk)\")\n",
        "print(\"   🤖 AI keyword extraction and recommendations\")\n",
        "print(\"   📊 Behavior analytics and tracking\")\n",
        "print(\"   📈 Real-time dashboard\")\n",
        "print(\"   🎤 Voice capabilities (if supported)\")\n",
        "\n",
        "print(\"\\n🔧 Next Steps:\")\n",
        "print(\"   1. Visit the dashboard for interactive exploration\")\n",
        "print(\"   2. Try more API endpoints with different queries\")\n",
        "print(\"   3. Test the conversational AI with Thai/English questions\")\n",
        "print(\"   4. Explore the complete API documentation\")\n",
        "\n",
        "print(\"\\n💡 Tips:\")\n",
        "print(\"   - API will be available until this Colab session ends\")\n",
        "print(\"   - Use the dashboard for a visual interface\")\n",
        "print(\"   - Try asking tourism questions in Thai or English\")\n",
        "print(\"   - Check /api/ for complete endpoint documentation\")\n",
        "\n",
        "print(\"\\n🙏 Thank you for testing Database Painaidee!\")\n",
        "print(\"   Repository: https://github.com/athipan1/Database_painaidee\")"
      ]
    },
    {
      "cell_type": "markdown",
      "metadata": {
        "id": "additional-resources"
      },
      "source": [
        "## 📚 Additional Resources\n",
        "\n",
        "- **GitHub Repository**: [athipan1/Database_painaidee](https://github.com/athipan1/Database_painaidee)\n",
        "- **Full Documentation**: Available in the repository README\n",
        "- **API Endpoints**: Visit `{your-ngrok-url}/api/` for complete documentation\n",
        "- **Dashboard**: Interactive web interface at `{your-ngrok-url}/api/dashboard/`\n",
        "\n",
        "### API Endpoints Summary:\n",
        "- `GET /api/health` - Health check\n",
        "- `GET /api/attractions` - List all attractions\n",
        "- `POST /api/talk` - Conversational AI\n",
        "- `GET /api/dashboard/` - Web dashboard\n",
        "- `POST /api/ai/keywords/extract` - Keyword extraction\n",
        "- `GET /api/ai/recommendations/{user_id}` - AI recommendations\n",
        "- `POST /api/behavior/track` - Behavior tracking\n",
        "\n",
        "**Note**: This is a temporary deployment for testing. For permanent deployment, consider using Vercel, Hugging Face Spaces, or your own server infrastructure."
      ]
    }
  ],
  "metadata": {
    "colab": {
      "provenance": [],
      "include_colab_link": true
    },
    "kernelspec": {
      "display_name": "Python 3",
      "name": "python3"
    },
    "language_info": {
      "name": "python"
    }
  },
  "nbformat": 4,
  "nbformat_minor": 0
}