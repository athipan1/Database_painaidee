{
  "cells": [
    {
      "cell_type": "markdown",
      "metadata": {
        "id": "view-in-github",
        "colab_type": "text"
      },
      "source": [
        "<a href=\"https://colab.research.google.com/github/athipan1/Database_painaidee/blob/main/Database_Painaidee_Colab.ipynb\" target=\"_parent\"><img src=\"https://colab.research.google.com/assets/colab-badge.svg\" alt=\"Open In Colab\"/></a>"
      ]
    },
    {
      "cell_type": "markdown",
      "metadata": {
        "id": "title"
      },
      "source": [
        "# 🏛️ Database Painaidee - Thai Attractions API\n",
        "\n",
        "## ระบบจัดการข้อมูลสถานที่ท่องเที่ยวไทย / Thai Attractions Database Management System\n",
        "\n",
        "This notebook allows you to run the Database Painaidee Flask API on Google Colab with ngrok tunneling for external access.\n",
        "\n",
        "**What You Get:**\n",
        "- 🏛️ **Real Thai tourism data** loaded from Tourism Authority of Thailand (TAT)\n",
        "- 🌐 **Public API access** via ngrok tunnel\n",
        "- 📊 **Interactive dashboard** for data visualization\n",
        "- 🗃️ **Full database** with PostgreSQL and Redis\n",
        "- ⚡ **Complete API** with all endpoints functional\n",
        "\n",
        "**Features:**\n",
        "- 🏛️ Thai attractions database management\n",
        "- 🤖 AI-powered features for content analysis\n",
        "- 📊 Behavior analytics and user tracking\n",
        "- 🗺️ Auto-geocoding for location data\n",
        "- ⚡ Real-time dashboard\n",
        "\n",
        "**Note:** This is a temporary deployment that will be accessible until this Colab session ends."
      ]
    },
    {
      "cell_type": "markdown",
      "metadata": {
        "id": "quick-start-guide"
      },
      "source": [
        "## 🚀 Quick Start Guide\n",
        "\n",
        "**To get your Thai tourism API running in 5 minutes:**\n",
        "\n",
        "1. **Run All Cells**: Click `Runtime → Run all` to execute all cells automatically\n",
        "2. **Wait for Setup**: The system will install dependencies and set up the database (~3-4 minutes)\n",
        "3. **Get Your URL**: Look for the ngrok public URL in the output (e.g., `https://abc123.ngrok.io`)\n",
        "4. **Data Loads Automatically**: Real Thai attraction data from TAT will be loaded into the database\n",
        "5. **Start Using**: Your API and dashboard will be immediately accessible!\n",
        "\n",
        "**What you'll get:**\n",
        "- 🌐 Public API URL for immediate access\n",
        "- 🏛️ Database with real Thai tourism attractions\n",
        "- 📊 Web dashboard at `[your-url]/api/dashboard/`\n",
        "- 🔗 API endpoints for attractions, statistics, and more\n",
        "\n",
        "**Ready? Click `Runtime → Run all` to start!**"
      ]
    },
    {
      "cell_type": "markdown",
      "metadata": {
        "id": "setup-section"
      },
      "source": [
        "## 🛠️ Setup and Installation"
      ]
    },
    {
      "cell_type": "code",
      "execution_count": null,
      "metadata": {
        "id": "clone-repo"
      },
      "outputs": [],
      "source": [
        "# Clone the repository\n",
        "!git clone https://github.com/athipan1/Database_painaidee.git\n",
        "%cd Database_painaidee"
      ]
    },
    {
      "cell_type": "code",
      "execution_count": null,
      "metadata": {
        "id": "install-dependencies"
      },
      "outputs": [],
      "source": [
        "# Install required Python packages\n",
        "!pip install flask flask-sqlalchemy psycopg2-binary celery redis python-dotenv requests gunicorn\n",
        "!pip install matplotlib seaborn gradio\n",
        "\n",
        "# Install ngrok for tunneling\n",
        "!pip install pyngrok\n",
        "\n",
        "# Install PostgreSQL for local database\n",
        "!apt update\n",
        "!apt install -y postgresql postgresql-contrib redis-server"
      ]
    },
    {
      "cell_type": "markdown",
      "metadata": {
        "id": "database-setup"
      },
      "source": [
        "## 🗃️ Database Setup"
      ]
    },
    {
      "cell_type": "code",
      "execution_count": null,
      "metadata": {
        "id": "setup-postgres"
      },
      "outputs": [],
      "source": [
        "# Setup PostgreSQL\n",
        "import os\n",
        "import subprocess\n",
        "import time\n",
        "\n",
        "# Start PostgreSQL service\n",
        "!service postgresql start\n",
        "\n",
        "# Setup database user and database\n",
        "!sudo -u postgres createuser --superuser root\n",
        "!sudo -u postgres createdb painaidee_db\n",
        "\n",
        "# Start Redis service\n",
        "!service redis-server start\n",
        "\n",
        "print(\"✅ Database services started\")"
      ]
    },
    {
      "cell_type": "code",
      "execution_count": null,
      "metadata": {
        "id": "setup-env"
      },
      "outputs": [],
      "source": [
        "# Create environment configuration\n",
        "env_content = \"\"\"\n",
        "FLASK_ENV=development\n",
        "SECRET_KEY=colab-demo-secret-key-123\n",
        "DATABASE_URL=postgresql://root@localhost:5432/painaidee_db\n",
        "POSTGRES_DB=painaidee_db\n",
        "POSTGRES_USER=root\n",
        "POSTGRES_PASSWORD=\n",
        "REDIS_URL=redis://localhost:6379/0\n",
        "CELERY_BROKER_URL=redis://localhost:6379/0\n",
        "DEBUG=True\n",
        "PAGINATION_ENABLED=true\n",
        "PAGINATION_PAGE_SIZE=20\n",
        "API_TIMEOUT=30\n",
        "\"\"\"\n",
        "\n",
        "with open('.env', 'w') as f:\n",
        "    f.write(env_content.strip())\n",
        "\n",
        "print(\"✅ Environment configuration created\")"
      ]
    },
    {
      "cell_type": "markdown",
      "metadata": {
        "id": "initialize-app"
      },
      "source": [
        "## 🚀 Initialize Application"
      ]
    },
    {
      "cell_type": "code",
      "execution_count": null,
      "metadata": {
        "id": "init-database"
      },
      "outputs": [],
      "source": [
        "# Initialize the database\n",
        "!python init_db.py\n",
        "print(\"✅ Database initialized\")"
      ]
    },
    {
      "cell_type": "markdown",
      "metadata": {
        "id": "ngrok-setup"
      },
      "source": [
        "## 🌐 Setup ngrok Tunnel\n",
        "\n",
        "ngrok will create a public URL to access your Flask app running on Colab."
      ]
    },
    {
      "cell_type": "code",
      "execution_count": null,
      "metadata": {
        "id": "setup-ngrok"
      },
      "outputs": [],
      "source": [
        "from pyngrok import ngrok\n",
        "import threading\n",
        "import time\n",
        "\n",
        "# Set up ngrok tunnel\n",
        "port = 5000\n",
        "public_url = ngrok.connect(port)\n",
        "print(f\"\\n🌐 ngrok tunnel created!\")\n",
        "print(f\"📱 Access your API at: {public_url}\")\n",
        "print(f\"📊 Dashboard available at: {public_url}/api/dashboard/\")\n",
        "print(f\"ℹ️  API information at: {public_url}/\")\n",
        "print(f\"\\n⚠️  Note: This URL will be active until this Colab session ends.\")"
      ]
    },
    {
      "cell_type": "markdown",
      "metadata": {
        "id": "run-app"
      },
      "source": [
        "## ▶️ Run the Flask Application"
      ]
    },
    {
      "cell_type": "code",
      "execution_count": null,
      "metadata": {
        "id": "start-celery"
      },
      "outputs": [],
      "source": [
        "# Start Celery worker in background\n",
        "import subprocess\n",
        "import threading\n",
        "import os\n",
        "\n",
        "def start_celery():\n",
        "    os.system('celery -A tasks.celery worker --loglevel=info --detach')\n",
        "\n",
        "# Start Celery worker\n",
        "celery_thread = threading.Thread(target=start_celery)\n",
        "celery_thread.daemon = True\n",
        "celery_thread.start()\n",
        "\n",
        "print(\"✅ Celery worker started\")\n",
        "time.sleep(3)"
      ]
    },
    {
      "cell_type": "code",
      "execution_count": null,
      "metadata": {
        "id": "run-flask-app"
      },
      "outputs": [],
      "source": [
        "# Run the Flask application\n",
        "from app import create_app\n",
        "import threading\n",
        "\n",
        "# Create Flask app\n",
        "flask_app = create_app()\n",
        "\n",
        "def run_flask():\n",
        "    flask_app.run(\n",
        "        host='0.0.0.0',\n",
        "        port=port,\n",
        "        debug=False,  # Disable debug in threading\n",
        "        use_reloader=False,  # Disable reloader in Colab\n",
        "        threaded=True\n",
        "    )\n",
        "\n",
        "# Start Flask in a separate thread\n",
        "flask_thread = threading.Thread(target=run_flask)\n",
        "flask_thread.daemon = True\n",
        "flask_thread.start()\n",
        "\n",
        "# Wait a moment for the server to start\n",
        "time.sleep(5)\n",
        "\n",
        "print(f\"\\n🚀 Flask application is now running!\")\n",
        "print(f\"\\n📱 **Access your API:**\")\n",
        "print(f\"   Main API: {public_url}\")\n",
        "print(f\"   Dashboard: {public_url}/api/dashboard/\")\n",
        "print(f\"   Health Check: {public_url}/api/health\")\n",
        "print(f\"   Attractions: {public_url}/api/attractions\")\n",
        "print(f\"\\n🔗 **API Endpoints to try:**\")\n",
        "print(f\"   GET  {public_url}/api/attractions\")\n",
        "print(f\"   POST {public_url}/api/attractions/sync\")\n",
        "print(f\"   GET  {public_url}/api/dashboard/stats\")\n",
        "print(f\"\\n⏰ Keep this cell running to maintain the server...\")"
      ]
    },
    {
      "cell_type": "markdown",
      "metadata": {
        "id": "test-api"
      },
      "source": [
        "## 🧪 Test the API"
      ]
    },
    {
      "cell_type": "code",
      "execution_count": null,
      "metadata": {
        "id": "test-endpoints"
      },
      "outputs": [],
      "source": [
        "import requests\n",
        "import json\n",
        "\n",
        "# Test API endpoints\n",
        "base_url = str(public_url)\n",
        "\n",
        "print(\"🧪 Testing API endpoints...\\n\")\n",
        "\n",
        "# Test health endpoint\n",
        "try:\n",
        "    response = requests.get(f\"{base_url}/api/health\")\n",
        "    print(f\"✅ Health Check: {response.status_code}\")\n",
        "    print(f\"   Response: {response.json()}\\n\")\n",
        "except Exception as e:\n",
        "    print(f\"❌ Health Check failed: {e}\\n\")\n",
        "\n",
        "# Test main API info\n",
        "try:\n",
        "    response = requests.get(f\"{base_url}/\")\n",
        "    print(f\"✅ API Info: {response.status_code}\")\n",
        "    if response.status_code == 200:\n",
        "        data = response.json()\n",
        "        print(f\"   Message: {data.get('message', 'N/A')}\")\n",
        "        print(f\"   Version: {data.get('version', 'N/A')}\\n\")\n",
        "except Exception as e:\n",
        "    print(f\"❌ API Info failed: {e}\\n\")\n",
        "\n",
        "# Test attractions endpoint\n",
        "try:\n",
        "    response = requests.get(f\"{base_url}/api/attractions\")\n",
        "    print(f\"✅ Attractions: {response.status_code}\")\n",
        "    if response.status_code == 200:\n",
        "        data = response.json()\n",
        "        print(f\"   Total attractions: {len(data.get('attractions', []))}\")\n",
        "except Exception as e:\n",
        "    print(f\"❌ Attractions failed: {e}\")\n",
        "\n",
        "print(f\"\\n🌐 Your API is accessible at: {public_url}\")\n",
        "print(f\"📊 Dashboard: {public_url}/api/dashboard/\")"
      ]
    },
    {
      "cell_type": "markdown",
      "metadata": {
        "id": "sample-data"
      },
      "source": [
        "## 📊 Load Real Thai Tourism Data"
      ]
    },
    {
      "cell_type": "code",
      "execution_count": null,
      "metadata": {
        "id": "sync-data"
      },
      "outputs": [],
      "source": [
        "# Load real Thai tourism data from Tourism Authority of Thailand (TAT)\n",
        "print(\"🏛️ Loading Thai tourism data from TAT Open Data...\")\n",
        "print(\"This will populate the database with real Thai attractions data.\\n\")\n",
        "\n",
        "try:\n",
        "    # First, try to load real TAT CSV data (preferred)\n",
        "    tat_payload = {\n",
        "        \"csv_url\": \"https://opendata.tourismthailand.org/data/attractions.csv\",\n",
        "        \"enable_geocoding\": False  # Disable geocoding for faster loading in Colab\n",
        "    }\n",
        "    \n",
        "    print(\"📋 Loading TAT Open Data CSV (Real Thai Attractions)...\")\n",
        "    response = requests.post(f\"{base_url}/api/attractions/sync/tat\", json=tat_payload)\n",
        "    \n",
        "    if response.status_code == 200:\n",
        "        result = response.json()\n",
        "        print(f\"✅ TAT Data Loaded Successfully!\")\n",
        "        print(f\"   📊 Saved: {result.get('saved', 0)} attractions\")\n",
        "        print(f\"   🔄 Updated: {result.get('updated', 0)} attractions\")\n",
        "        print(f\"   ⏭️ Skipped: {result.get('skipped', 0)} attractions\")\n",
        "        print(f\"   📈 Total Processed: {result.get('total_processed', 0)} attractions\")\n",
        "        \n",
        "        if result.get('saved', 0) > 0 or result.get('updated', 0) > 0:\n",
        "            print(f\"\\n🎉 Database now contains real Thai tourism data!\")\n",
        "        else:\n",
        "            print(f\"\\n⚠️ No new data added (may already exist in database)\")\n",
        "    else:\n",
        "        print(f\"⚠️ TAT CSV loading failed ({response.status_code}), trying fallback...\")\n",
        "        raise Exception(f\"TAT API returned status {response.status_code}\")\n",
        "        \n",
        "except Exception as e:\n",
        "    print(f\"\\n🔄 TAT data unavailable, using test data for demonstration...\")\n",
        "    print(f\"Error details: {e}\")\n",
        "    \n",
        "    # Fallback to external API sync (test data)\n",
        "    try:\n",
        "        response = requests.post(f\"{base_url}/api/attractions/sync\")\n",
        "        if response.status_code == 200:\n",
        "            result = response.json()\n",
        "            print(f\"\\n✅ Fallback Test Data Loaded:\")\n",
        "            print(f\"   💾 Saved: {result.get('saved', 0)} items\")\n",
        "            print(f\"   ⏭️ Skipped: {result.get('skipped', 0)} items\")\n",
        "            print(f\"   📈 Total: {result.get('total_processed', 0)} items\")\n",
        "        else:\n",
        "            print(f\"❌ Fallback sync also failed: {response.status_code}\")\n",
        "    except Exception as fallback_error:\n",
        "        print(f\"❌ Both data sources failed: {fallback_error}\")\n",
        "\n",
        "# Verify data was loaded\n",
        "try:\n",
        "    response = requests.get(f\"{base_url}/api/attractions\")\n",
        "    if response.status_code == 200:\n",
        "        data = response.json()\n",
        "        attraction_count = len(data.get('attractions', []))\n",
        "        print(f\"\\n📊 Database Status: {attraction_count} attractions loaded\")\n",
        "        \n",
        "        if attraction_count > 0:\n",
        "            # Show sample attraction\n",
        "            sample = data['attractions'][0]\n",
        "            print(f\"\\n🏛️ Sample Attraction:\")\n",
        "            print(f\"   Name: {sample.get('title', 'N/A')[:60]}...\")\n",
        "            print(f\"   Province: {sample.get('province', 'N/A')}\")\n",
        "            print(f\"   Category: {sample.get('category', 'N/A')}\")\n",
        "        else:\n",
        "            print(f\"\\n⚠️ No attractions found in database\")\n",
        "    else:\n",
        "        print(f\"\\n❌ Could not verify database contents\")\n",
        "except Exception as e:\n",
        "    print(f\"\\n❌ Error checking database: {e}\")\n",
        "\n",
        "print(f\"\\n🌐 Your API with data is accessible at: {public_url}\")\n",
        "print(f\"📊 Dashboard: {public_url}/api/dashboard/\")\n",
        "print(f\"🔍 Browse attractions: {public_url}/api/attractions\")"
      ]
    },
    {
      "cell_type": "markdown",
      "metadata": {
        "id": "quick-examples"
      },
      "source": [
        "## 🚀 Quick Examples & Usage\n",
        "\n",
        "Now that your database is populated, here are some quick examples of what you can do:"
      ]
    },
    {
      "cell_type": "code",
      "execution_count": null,
      "metadata": {
        "id": "api-examples"
      },
      "outputs": [],
      "source": [
        "# Example API calls with your populated database\n",
        "import requests\n",
        "import json\n",
        "\n",
        "print(\"🎯 API Examples with Real Data:\\n\")\n",
        "\n",
        "# 1. Get attractions count\n",
        "try:\n",
        "    response = requests.get(f\"{base_url}/api/attractions\")\n",
        "    if response.status_code == 200:\n",
        "        data = response.json()\n",
        "        print(f\"📊 Total attractions: {len(data.get('attractions', []))}\")\n",
        "        \n",
        "        # Show attractions by province (if data available)\n",
        "        if data.get('attractions'):\n",
        "            provinces = {}\n",
        "            for attraction in data['attractions'][:20]:  # Sample first 20\n",
        "                province = attraction.get('province', 'Unknown')\n",
        "                provinces[province] = provinces.get(province, 0) + 1\n",
        "            \n",
        "            print(f\"\\n🗺️ Attractions by Province (sample):\")\n",
        "            for province, count in sorted(provinces.items())[:10]:\n",
        "                print(f\"   {province}: {count} attractions\")\n",
        "                \n",
        "except Exception as e:\n",
        "    print(f\"❌ Error: {e}\")\n",
        "\n",
        "# 2. Dashboard statistics\n",
        "try:\n",
        "    response = requests.get(f\"{base_url}/api/dashboard/stats\")\n",
        "    if response.status_code == 200:\n",
        "        stats = response.json()\n",
        "        print(f\"\\n📈 Dashboard Statistics:\")\n",
        "        print(f\"   Database attractions: {stats.get('total_attractions', 0)}\")\n",
        "        print(f\"   Recent syncs: {stats.get('recent_syncs', 0)}\")\n",
        "        if stats.get('latest_sync'):\n",
        "            print(f\"   Latest sync: {stats['latest_sync'].get('created_at', 'Unknown')}\")\n",
        "except Exception as e:\n",
        "    print(f\"❌ Dashboard stats error: {e}\")\n",
        "\n",
        "# 3. Health check\n",
        "try:\n",
        "    response = requests.get(f\"{base_url}/api/health\")\n",
        "    if response.status_code == 200:\n",
        "        health = response.json()\n",
        "        print(f\"\\n❤️ System Health: {health.get('message', 'Unknown')}\")\n",
        "except Exception as e:\n",
        "    print(f\"❌ Health check error: {e}\")\n",
        "\n",
        "print(f\"\\n🌐 **Your API Endpoints:**\")\n",
        "print(f\"   🏠 Main API: {public_url}\")\n",
        "print(f\"   📊 Dashboard: {public_url}/api/dashboard/\")\n",
        "print(f\"   🏛️ Attractions: {public_url}/api/attractions\")\n",
        "print(f\"   ❤️ Health: {public_url}/api/health\")\n",
        "print(f\"   📈 Stats: {public_url}/api/dashboard/stats\")\n",
        "\n",
        "print(f\"\\n💡 **Try these in your browser or with curl:**\")\n",
        "print(f\"   curl {public_url}/api/health\")\n",
        "print(f\"   curl {public_url}/api/dashboard/stats\")"
      ]
    },
    {
      "cell_type": "markdown",
      "metadata": {
        "id": "keep-alive"
      },
      "source": [
        "## 🔄 Keep Server Running\n",
        "\n",
        "**Important:** Keep the cell below running to maintain your server. \n",
        "\n",
        "The API will be accessible at the ngrok URL until you stop this cell or the Colab session ends."
      ]
    },
    {
      "cell_type": "code",
      "execution_count": null,
      "metadata": {
        "id": "keep-server-alive"
      },
      "outputs": [],
      "source": [
        "# Keep the server running\n",
        "import time\n",
        "\n",
        "print(f\"🚀 Server is running at: {public_url}\")\n",
        "print(f\"📊 Dashboard: {public_url}/api/dashboard/\")\n",
        "print(f\"\\n⏰ Server will keep running...\")\n",
        "print(f\"\\n🛑 To stop the server, interrupt this cell (Runtime → Interrupt execution)\")\n",
        "\n",
        "try:\n",
        "    while True:\n",
        "        time.sleep(30)\n",
        "        print(f\"⚡ Server alive at {time.strftime('%H:%M:%S')} - {public_url}\")\nexcept KeyboardInterrupt:\n",
        "    print(\"\\n🛑 Server stopped by user\")\n",
        "    ngrok.disconnect(public_url)\n",
        "    print(\"🔌 ngrok tunnel disconnected\")"
      ]
    },
    {
      "cell_type": "markdown",
      "metadata": {
        "id": "usage-guide"
      },
      "source": [
        "## 📖 Usage Guide\n",
        "\n",
        "### 🎯 What You Just Built\n",
        "You now have a fully functional Thai tourism API running on Google Colab with:\n",
        "- **Real Tourism Data**: Loaded from Tourism Authority of Thailand (TAT)\n",
        "- **Public Access**: Available via ngrok tunnel to anyone with the URL\n",
        "- **Complete Database**: PostgreSQL with attractions, geocoding, and analytics\n",
        "- **Background Processing**: Celery + Redis for async operations\n",
        "- **Web Dashboard**: Real-time monitoring and statistics\n",
        "\n",
        "### 🔗 API Endpoints Available\n",
        "\n",
        "**Core Endpoints:**\n",
        "- `GET /` - API information and features overview\n",
        "- `GET /api/health` - Health check and system status\n",
        "- `GET /api/attractions` - Get all Thai attractions in database\n",
        "- `POST /api/attractions/sync` - Sync additional test data\n",
        "- `POST /api/attractions/sync/tat` - Sync more TAT CSV data\n",
        "\n",
        "**Dashboard & Analytics:**\n",
        "- `GET /api/dashboard/` - Interactive web dashboard\n",
        "- `GET /api/dashboard/stats` - System statistics\n",
        "- `GET /api/dashboard/health` - Detailed health information\n",
        "\n",
        "**AI Features (if available):**\n",
        "- `POST /api/ai/keywords/extract` - Extract keywords from attraction data\n",
        "- `GET /api/ai/recommendations/{user_id}` - Get AI recommendations\n",
        "- `POST /api/behavior/track` - Track user interactions\n",
        "\n",
        "### 💻 Sample Usage Examples\n",
        "\n",
        "**Python/Requests:**\n",
        "```python\n",
        "import requests\n",
        "\n",
        "# Your ngrok URL from above\n",
        "api_url = \"YOUR_NGROK_URL_HERE\"\n",
        "\n",
        "# Get all attractions\n",
        "response = requests.get(f\"{api_url}/api/attractions\")\n",
        "attractions = response.json()\n",
        "print(f\"Found {len(attractions['data'])} Thai attractions\")\n",
        "\n",
        "# Get system stats\n",
        "stats = requests.get(f\"{api_url}/api/dashboard/stats\").json()\n",
        "print(f\"Database has {stats['total_attractions']} attractions\")\n",
        "```\n",
        "\n",
        "**cURL Commands:**\n",
        "```bash\n",
        "# Health check\n",
        "curl YOUR_NGROK_URL/api/health\n",
        "\n",
        "# Get attractions\n",
        "curl YOUR_NGROK_URL/api/attractions | jq .\n",
        "\n",
        "# Get dashboard stats\n",
        "curl YOUR_NGROK_URL/api/dashboard/stats | jq .\n",
        "```\n",
        "\n",
        "**JavaScript/Fetch:**\n",
        "```javascript\n",
        "// Get attractions\n",
        "fetch('YOUR_NGROK_URL/api/attractions')\n",
        "  .then(response => response.json())\n",
        "  .then(data => console.log('Attractions:', data.data.length));\n",
        "```\n",
        "\n",
        "### 🌐 Web Interface\n",
        "- **Dashboard**: Visit `YOUR_NGROK_URL/api/dashboard/` for a web interface\n",
        "- **API Info**: Visit `YOUR_NGROK_URL/` for API documentation\n",
        "- **Direct Data**: Visit `YOUR_NGROK_URL/api/attractions` to see JSON data\n",
        "\n",
        "### 🚀 Next Steps\n",
        "1. **Explore the Dashboard**: Visit the dashboard URL for visual analytics\n",
        "2. **Test API Endpoints**: Use the URLs above with curl, Postman, or code\n",
        "3. **Build Applications**: Use this API as backend for mobile/web apps\n",
        "4. **Analyze Data**: Query the attractions for tourism insights\n",
        "\n",
        "### ⚠️ Important Notes\n",
        "- 🕒 **Temporary**: This deployment lasts only during your Colab session\n",
        "- 🌐 **Public**: The ngrok URL is accessible by anyone with the link\n",
        "- 🔄 **Persistent**: For permanent deployment, use Hugging Face Spaces or deploy locally\n",
        "- 💾 **Data**: Real Thai tourism data is loaded and ready to use\n",
        "\n",
        "### 🔗 For Production Use\n",
        "- **Hugging Face Spaces**: Use the Deploy button in the main repository for permanent hosting\n",
        "- **Local Docker**: Clone the repo and run with `docker-compose up -d`\n",
        "- **Full Repository**: Visit https://github.com/athipan1/Database_painaidee for complete documentation"
      ]
    }
  ],
  "metadata": {
    "colab": {
      "provenance": [],
      "include_colab_link": true
    },
    "kernelspec": {
      "display_name": "Python 3",
      "name": "python3"
    },
    "language_info": {
      "name": "python"
    }
  },
  "nbformat": 4,
  "nbformat_minor": 0
}