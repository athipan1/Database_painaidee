{
  "cells": [
    {
      "cell_type": "markdown",
      "metadata": {
        "id": "view-in-github",
        "colab_type": "text"
      },
      "source": [
        "<a href=\"https://colab.research.google.com/github/athipan1/Database_painaidee/blob/main/Database_Painaidee_Colab.ipynb\" target=\"_parent\"><img src=\"https://colab.research.google.com/assets/colab-badge.svg\" alt=\"Open In Colab\"/></a>"
      ]
    },
    {
      "cell_type": "markdown",
      "metadata": {
        "id": "title"
      },
      "source": [
        "# 🏛️ Database Painaidee - Thai Attractions API\n",
        "\n",
        "## ระบบจัดการข้อมูลสถานที่ท่องเที่ยวไทย / Thai Attractions Database Management System\n",
        "\n",
        "This notebook allows you to run the Database Painaidee Flask API on Google Colab with ngrok tunneling for external access.\n",
        "\n",
        "**Features:**\n",
        "- 🏛️ Thai attractions database management\n",
        "- 🤖 AI-powered features for content analysis\n",
        "- 📊 Behavior analytics and user tracking\n",
        "- 🗺️ Auto-geocoding for location data\n",
        "- ⚡ Real-time dashboard\n",
        "\n",
        "**Note:** This is a temporary deployment that will be accessible until this Colab session ends."
      ]
    },
    {
      "cell_type": "markdown",
      "metadata": {
        "id": "setup-section"
      },
      "source": [
        "## 🛠️ Setup and Installation"
      ]
    },
    {
      "cell_type": "code",
      "execution_count": null,
      "metadata": {
        "id": "clone-repo"
      },
      "outputs": [],
      "source": [
        "# Clone the repository\n",
        "!git clone https://github.com/athipan1/Database_painaidee.git\n",
        "%cd Database_painaidee"
      ]
    },
    {
      "cell_type": "code",
      "execution_count": null,
      "metadata": {
        "id": "install-dependencies"
      },
      "outputs": [],
      "source": [
        "# Install required Python packages\n",
        "!pip install flask flask-sqlalchemy psycopg2-binary celery redis python-dotenv requests gunicorn\n",
        "!pip install matplotlib seaborn gradio\n",
        "\n",
        "# Install ngrok for tunneling\n",
        "!pip install pyngrok\n",
        "\n",
        "# Install PostgreSQL for local database\n",
        "!apt update\n",
        "!apt install -y postgresql postgresql-contrib redis-server"
      ]
    },
    {
      "cell_type": "markdown",
      "metadata": {
        "id": "database-setup"
      },
      "source": [
        "## 🗃️ Database Setup"
      ]
    },
    {
      "cell_type": "code",
      "execution_count": null,
      "metadata": {
        "id": "setup-postgres"
      },
      "outputs": [],
      "source": [
        "# Setup PostgreSQL\n",
        "import os\n",
        "import subprocess\n",
        "import time\n",
        "\n",
        "# Start PostgreSQL service\n",
        "!service postgresql start\n",
        "\n",
        "# Setup database user and database\n",
        "!sudo -u postgres createuser --superuser root\n",
        "!sudo -u postgres createdb painaidee_db\n",
        "\n",
        "# Start Redis service\n",
        "!service redis-server start\n",
        "\n",
        "print(\"✅ Database services started\")"
      ]
    },
    {
      "cell_type": "code",
      "execution_count": null,
      "metadata": {
        "id": "setup-env"
      },
      "outputs": [],
      "source": [
        "# Create environment configuration\n",
        "env_content = \"\"\"\n",
        "FLASK_ENV=development\n",
        "SECRET_KEY=colab-demo-secret-key-123\n",
        "DATABASE_URL=postgresql://root@localhost:5432/painaidee_db\n",
        "POSTGRES_DB=painaidee_db\n",
        "POSTGRES_USER=root\n",
        "POSTGRES_PASSWORD=\n",
        "REDIS_URL=redis://localhost:6379/0\n",
        "CELERY_BROKER_URL=redis://localhost:6379/0\n",
        "DEBUG=True\n",
        "PAGINATION_ENABLED=true\n",
        "PAGINATION_PAGE_SIZE=20\n",
        "API_TIMEOUT=30\n",
        "\"\"\"\n",
        "\n",
        "with open('.env', 'w') as f:\n",
        "    f.write(env_content.strip())\n",
        "\n",
        "print(\"✅ Environment configuration created\")"
      ]
    },
    {
      "cell_type": "markdown",
      "metadata": {
        "id": "initialize-app"
      },
      "source": [
        "## 🚀 Initialize Application"
      ]
    },
    {
      "cell_type": "code",
      "execution_count": null,
      "metadata": {
        "id": "init-database"
      },
      "outputs": [],
      "source": [
        "# Initialize the database\n",
        "!python init_db.py\n",
        "print(\"✅ Database initialized\")"
      ]
    },
    {
      "cell_type": "markdown",
      "metadata": {
        "id": "ngrok-setup"
      },
      "source": [
        "## 🌐 Setup ngrok Tunnel\n",
        "\n",
        "ngrok will create a public URL to access your Flask app running on Colab."
      ]
    },
    {
      "cell_type": "code",
      "execution_count": null,
      "metadata": {
        "id": "setup-ngrok"
      },
      "outputs": [],
      "source": [
        "from pyngrok import ngrok\n",
        "import threading\n",
        "import time\n",
        "\n",
        "# Set up ngrok tunnel\n",
        "port = 5000\n",
        "public_url = ngrok.connect(port)\n",
        "print(f\"\\n🌐 ngrok tunnel created!\")\n",
        "print(f\"📱 Access your API at: {public_url}\")\n",
        "print(f\"📊 Dashboard available at: {public_url}/api/dashboard/\")\n",
        "print(f\"ℹ️  API information at: {public_url}/\")\n",
        "print(f\"\\n⚠️  Note: This URL will be active until this Colab session ends.\")"
      ]
    },
    {
      "cell_type": "markdown",
      "metadata": {
        "id": "run-app"
      },
      "source": [
        "## ▶️ Run the Flask Application"
      ]
    },
    {
      "cell_type": "code",
      "execution_count": null,
      "metadata": {
        "id": "start-celery"
      },
      "outputs": [],
      "source": [
        "# Start Celery worker in background\n",
        "import subprocess\n",
        "import threading\n",
        "import os\n",
        "\n",
        "def start_celery():\n",
        "    os.system('celery -A tasks.celery worker --loglevel=info --detach')\n",
        "\n",
        "# Start Celery worker\n",
        "celery_thread = threading.Thread(target=start_celery)\n",
        "celery_thread.daemon = True\n",
        "celery_thread.start()\n",
        "\n",
        "print(\"✅ Celery worker started\")\n",
        "time.sleep(3)"
      ]
    },
    {
      "cell_type": "code",
      "execution_count": null,
      "metadata": {
        "id": "run-flask-app"
      },
      "outputs": [],
      "source": [
        "# Run the Flask application\n",
        "from app import create_app\n",
        "import threading\n",
        "\n",
        "# Create Flask app\n",
        "flask_app = create_app()\n",
        "\n",
        "def run_flask():\n",
        "    flask_app.run(\n",
        "        host='0.0.0.0',\n",
        "        port=port,\n",
        "        debug=False,  # Disable debug in threading\n",
        "        use_reloader=False,  # Disable reloader in Colab\n",
        "        threaded=True\n",
        "    )\n",
        "\n",
        "# Start Flask in a separate thread\n",
        "flask_thread = threading.Thread(target=run_flask)\n",
        "flask_thread.daemon = True\n",
        "flask_thread.start()\n",
        "\n",
        "# Wait a moment for the server to start\n",
        "time.sleep(5)\n",
        "\n",
        "print(f\"\\n🚀 Flask application is now running!\")\n",
        "print(f\"\\n📱 **Access your API:**\")\n",
        "print(f\"   Main API: {public_url}\")\n",
        "print(f\"   Dashboard: {public_url}/api/dashboard/\")\n",
        "print(f\"   Health Check: {public_url}/api/health\")\n",
        "print(f\"   Attractions: {public_url}/api/attractions\")\n",
        "print(f\"\\n🔗 **API Endpoints to try:**\")\n",
        "print(f\"   GET  {public_url}/api/attractions\")\n",
        "print(f\"   POST {public_url}/api/attractions/sync\")\n",
        "print(f\"   GET  {public_url}/api/dashboard/stats\")\n",
        "print(f\"\\n⏰ Keep this cell running to maintain the server...\")"
      ]
    },
    {
      "cell_type": "markdown",
      "metadata": {
        "id": "test-api"
      },
      "source": [
        "## 🧪 Test the API"
      ]
    },
    {
      "cell_type": "code",
      "execution_count": null,
      "metadata": {
        "id": "test-endpoints"
      },
      "outputs": [],
      "source": [
        "import requests\n",
        "import json\n",
        "\n",
        "# Test API endpoints\n",
        "base_url = str(public_url)\n",
        "\n",
        "print(\"🧪 Testing API endpoints...\\n\")\n",
        "\n",
        "# Test health endpoint\n",
        "try:\n",
        "    response = requests.get(f\"{base_url}/api/health\")\n",
        "    print(f\"✅ Health Check: {response.status_code}\")\n",
        "    print(f\"   Response: {response.json()}\\n\")\n",
        "except Exception as e:\n",
        "    print(f\"❌ Health Check failed: {e}\\n\")\n",
        "\n",
        "# Test main API info\n",
        "try:\n",
        "    response = requests.get(f\"{base_url}/\")\n",
        "    print(f\"✅ API Info: {response.status_code}\")\n",
        "    if response.status_code == 200:\n",
        "        data = response.json()\n",
        "        print(f\"   Message: {data.get('message', 'N/A')}\")\n",
        "        print(f\"   Version: {data.get('version', 'N/A')}\\n\")\n",
        "except Exception as e:\n",
        "    print(f\"❌ API Info failed: {e}\\n\")\n",
        "\n",
        "# Test attractions endpoint\n",
        "try:\n",
        "    response = requests.get(f\"{base_url}/api/attractions\")\n",
        "    print(f\"✅ Attractions: {response.status_code}\")\n",
        "    if response.status_code == 200:\n",
        "        data = response.json()\n",
        "        print(f\"   Total attractions: {len(data.get('attractions', []))}\")\n",
        "except Exception as e:\n",
        "    print(f\"❌ Attractions failed: {e}\")\n",
        "\n",
        "print(f\"\\n🌐 Your API is accessible at: {public_url}\")\n",
        "print(f\"📊 Dashboard: {public_url}/api/dashboard/\")"
      ]
    },
    {
      "cell_type": "markdown",
      "metadata": {
        "id": "sample-data"
      },
      "source": [
        "## 📊 Load Sample Data (Optional)"
      ]
    },
    {
      "cell_type": "code",
      "execution_count": null,
      "metadata": {
        "id": "sync-data"
      },
      "outputs": [],
      "source": [
        "# Trigger data sync to populate the database\n",
        "try:\n",
        "    response = requests.post(f\"{base_url}/api/attractions/sync\")\n",
        "    print(f\"📊 Data Sync Status: {response.status_code}\")\n",
        "    if response.status_code == 200:\n",
        "        result = response.json()\n",
        "        print(f\"   Sync Result: {result}\")\n",
        "    else:\n",
        "        print(f\"   Response: {response.text}\")\n",
        "except Exception as e:\n",
        "    print(f\"❌ Data sync failed: {e}\")\n",
        "\n",
        "print(f\"\\n🔄 Sync completed! Check the dashboard at: {public_url}/api/dashboard/\")"
      ]
    },
    {
      "cell_type": "markdown",
      "metadata": {
        "id": "keep-alive"
      },
      "source": [
        "## 🔄 Keep Server Running\n",
        "\n",
        "**Important:** Keep the cell below running to maintain your server. \n",
        "\n",
        "The API will be accessible at the ngrok URL until you stop this cell or the Colab session ends."
      ]
    },
    {
      "cell_type": "code",
      "execution_count": null,
      "metadata": {
        "id": "keep-server-alive"
      },
      "outputs": [],
      "source": [
        "# Keep the server running\n",
        "import time\n",
        "\n",
        "print(f\"🚀 Server is running at: {public_url}\")\n",
        "print(f\"📊 Dashboard: {public_url}/api/dashboard/\")\n",
        "print(f\"\\n⏰ Server will keep running...\")\n",
        "print(f\"\\n🛑 To stop the server, interrupt this cell (Runtime → Interrupt execution)\")\n",
        "\n",
        "try:\n",
        "    while True:\n",
        "        time.sleep(30)\n",
        "        print(f\"⚡ Server alive at {time.strftime('%H:%M:%S')} - {public_url}\")\nexcept KeyboardInterrupt:\n",
        "    print(\"\\n🛑 Server stopped by user\")\n",
        "    ngrok.disconnect(public_url)\n",
        "    print(\"🔌 ngrok tunnel disconnected\")"
      ]
    },
    {
      "cell_type": "markdown",
      "metadata": {
        "id": "usage-guide"
      },
      "source": [
        "## 📖 Usage Guide\n",
        "\n",
        "### API Endpoints Available:\n",
        "\n",
        "**Core API:**\n",
        "- `GET /` - API information\n",
        "- `GET /api/health` - Health check\n",
        "- `GET /api/attractions` - Get all attractions\n",
        "- `POST /api/attractions/sync` - Sync data from external API\n",
        "\n",
        "**Dashboard:**\n",
        "- `GET /api/dashboard/` - Web dashboard interface\n",
        "- `GET /api/dashboard/stats` - Dashboard statistics\n",
        "\n",
        "**AI Features:**\n",
        "- `POST /api/ai/keywords/extract` - Extract keywords\n",
        "- `GET /api/ai/recommendations/{user_id}` - Get recommendations\n",
        "\n",
        "### Sample Usage:\n",
        "\n",
        "```python\n",
        "import requests\n",
        "\n",
        "# Get all attractions\n",
        "response = requests.get(f\"{your_ngrok_url}/api/attractions\")\n",
        "attractions = response.json()\n",
        "\n",
        "# Sync new data\n",
        "response = requests.post(f\"{your_ngrok_url}/api/attractions/sync\")\n",
        "sync_result = response.json()\n",
        "```\n",
        "\n",
        "### Notes:\n",
        "- 🕒 This deployment is temporary and will end when the Colab session closes\n",
        "- 🌐 The ngrok URL is publicly accessible but randomly generated\n",
        "- 🔄 For persistent deployment, consider using the Hugging Face Spaces option\n",
        "- 📱 The dashboard provides a web interface for easier interaction\n",
        "\n",
        "### For Full Features:\n",
        "Visit the main repository: https://github.com/athipan1/Database_painaidee"
      ]
    }
  ],
  "metadata": {
    "colab": {
      "provenance": [],
      "include_colab_link": true
    },
    "kernelspec": {
      "display_name": "Python 3",
      "name": "python3"
    },
    "language_info": {
      "name": "python"
    }
  },
  "nbformat": 4,
  "nbformat_minor": 0
}